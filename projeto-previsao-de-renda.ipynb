{
 "cells": [
  {
   "cell_type": "markdown",
   "metadata": {
    "id": "4JwsQ0dNiIt-"
   },
   "source": [
    "# Previsão de renda"
   ]
  },
  {
   "cell_type": "markdown",
   "metadata": {
    "id": "SppT-lpUiIt_"
   },
   "source": [
    "### 4 elementos importantes\n",
    "- Esse notebook\n",
    "- Streamlit com as análises\n",
    "- Seu Github com o projeto\n",
    "- Vídeo no readme do github mostrando o streamlit"
   ]
  },
  {
   "cell_type": "markdown",
   "metadata": {
    "id": "AdX_P0_6iIt_"
   },
   "source": [
    "## Etapa 1 CRISP - DM: Entendimento do negócio\n",
    "\n",
    "<span style=\"color:red\">Objetivo de negócio: prever a renda mensal de uma pessoa com base em características socioeconômicas.\n",
    "\n",
    "Aplicação prática: pode ser usado em concessão de crédito, segmentação de clientes, análise de risco.\n",
    "\n",
    "Questões de negócio:\n",
    "\n",
    "Quais fatores mais influenciam a renda? (educação, tempo de emprego, idade, tipo de renda).\n",
    "\n",
    "É possível prever a renda de forma confiável para novos clientes? </span>\n"
   ]
  },
  {
   "cell_type": "markdown",
   "metadata": {
    "id": "hRAG3kA8iIt_"
   },
   "source": [
    "## Etapa 2 Crisp-DM: Entendimento dos dados\n",
    "<span style=\"color:red\">Na segunda etapa é o entendimento dos dados. Foram fornecidas 14 variaveis mais a variavel resposta para verificação. </span>\n",
    "\n",
    "\n",
    "### Dicionário de dados\n",
    "\n",
    "<span style=\"color:red\">Os dados estão dispostos em uma tabela com uma linha para cada cliente, e uma coluna para cada variável armazenando as características desses clientes. Colocamos uma cópia o dicionário de dados (explicação dessas variáveis) abaixo neste notebook:</span>\n",
    "\n",
    "\n",
    "| Variável                | Descrição                                           | Tipo         |\n",
    "| ----------------------- | --------------------------------------------------- | ------------ |\n",
    "| data_ref                | Data de referência da informação do cliente         | Data         |\n",
    "| id_cliente              | Identificador único do cliente                      | Numérico / Chave |\n",
    "| sexo                    | Sexo do cliente (ex.: M, F)                         | Categórico   |\n",
    "| posse_de_veiculo        | Indica se o cliente possui veículo                  | Binário (Sim/Não) |\n",
    "| posse_de_imovel         | Indica se o cliente possui imóvel                   | Binário (Sim/Não) |\n",
    "| qtd_filhos              | Quantidade de filhos do cliente                     | Numérico     |\n",
    "| tipo_renda              | Fonte principal de renda (ex.: assalariado, autônomo)| Categórico  |\n",
    "| educacao                | Nível de escolaridade do cliente                    | Categórico   |\n",
    "| estado_civil            | Estado civil do cliente (solteiro, casado etc.)     | Categórico   |\n",
    "| tipo_residencia         | Tipo de residência (alugada, própria, financiada)   | Categórico   |\n",
    "| idade                   | Idade do cliente (em anos)                          | Numérico     |\n",
    "| tempo_emprego           | Tempo de emprego do cliente (em anos)               | Numérico     |\n",
    "| qt_pessoas_residencia   | Quantidade de pessoas que moram na residência       | Numérico     |\n",
    "| renda                   | Renda mensal do cliente                             | Numérico     |\n",
    "\n",
    "\n"
   ]
  },
  {
   "cell_type": "markdown",
   "metadata": {
    "id": "MVIoJPFsiIuA"
   },
   "source": [
    "#### Carregando os pacotes\n",
    "É considerado uma boa prática carregar os pacotes que serão utilizados como a primeira coisa do programa."
   ]
  },
  {
   "cell_type": "markdown",
   "metadata": {
    "id": "3zOdSwCoiIuA"
   },
   "source": [
    "<span style=\"color:red\">ESCREVER AQUI</span>\n"
   ]
  },
  {
   "cell_type": "code",
   "execution_count": null,
   "metadata": {
    "colab": {
     "base_uri": "https://localhost:8080/"
    },
    "id": "ieREnHpHjHDW",
    "outputId": "5ffc69a7-1ef1-41aa-9551-c7a530109954"
   },
   "outputs": [],
   "source": [
    "!pip install ydata_profiling"
   ]
  },
  {
   "cell_type": "code",
   "execution_count": null,
   "metadata": {
    "colab": {
     "base_uri": "https://localhost:8080/",
     "height": 101
    },
    "id": "kRfk86fvjDv3",
    "outputId": "6bc999a3-b114-4d34-a21e-8499a99c5b49"
   },
   "outputs": [],
   "source": [
    "import pandas as pd\n",
    "import seaborn as sns\n",
    "import matplotlib.pyplot as plt\n",
    "\n",
    "from ydata_profiling import ProfileReport\n",
    "from pandas_profiling import ProfileReport\n",
    "from google.colab import files\n",
    "from sklearn.model_selection import train_test_split\n",
    "from sklearn import metrics\n",
    "from sklearn.ensemble import RandomForestClassifier"
   ]
  },
  {
   "cell_type": "code",
   "execution_count": null,
   "metadata": {
    "colab": {
     "base_uri": "https://localhost:8080/",
     "height": 1000
    },
    "id": "sxzKsPJojOd3",
    "outputId": "bf375cc5-d841-45fc-e573-ba9a5a9fa892"
   },
   "outputs": [],
   "source": [
    "files.upload()"
   ]
  },
  {
   "cell_type": "markdown",
   "metadata": {
    "id": "PtUzUAxPiIuA"
   },
   "source": [
    "#### Carregando os dados\n",
    "O comando pd.read_csv é um comando da biblioteca pandas (pd.) e carrega os dados do arquivo csv indicado para um objeto *dataframe* do pandas."
   ]
  },
  {
   "cell_type": "markdown",
   "metadata": {
    "id": "0C735me8iIuA"
   },
   "source": [
    "<span style=\"color:red\">ESCREVER AQUI</span>\n"
   ]
  },
  {
   "cell_type": "code",
   "execution_count": null,
   "metadata": {
    "id": "GgTAUUMRiIuB"
   },
   "outputs": [],
   "source": [
    "renda = pd.read_csv('previsao_de_renda.csv')"
   ]
  },
  {
   "cell_type": "code",
   "execution_count": null,
   "metadata": {
    "colab": {
     "base_uri": "https://localhost:8080/",
     "height": 614
    },
    "id": "DsRFyRaT2arv",
    "outputId": "68a171ec-654f-4ece-ad7a-d1e818356d13"
   },
   "outputs": [],
   "source": [
    "renda"
   ]
  },
  {
   "cell_type": "code",
   "execution_count": null,
   "metadata": {
    "id": "gutgj76SiIuB"
   },
   "outputs": [],
   "source": [
    "renda.drop(['data_ref', 'Unnamed: 0', 'index'], axis=1, inplace=True)"
   ]
  },
  {
   "cell_type": "code",
   "execution_count": null,
   "metadata": {
    "id": "EYiU5XIM5Fgt"
   },
   "outputs": [],
   "source": [
    "renda1 = renda.copy()"
   ]
  },
  {
   "cell_type": "code",
   "execution_count": null,
   "metadata": {
    "colab": {
     "base_uri": "https://localhost:8080/",
     "height": 206
    },
    "id": "XCTaEvBN2jb8",
    "outputId": "e29ed14b-af11-49c5-c7c9-6391472c389e"
   },
   "outputs": [],
   "source": [
    "renda.head()"
   ]
  },
  {
   "cell_type": "code",
   "execution_count": null,
   "metadata": {
    "id": "mZpBCj0S2ddm"
   },
   "outputs": [],
   "source": []
  },
  {
   "cell_type": "markdown",
   "metadata": {
    "id": "W9g6T3kLiIuC"
   },
   "source": [
    "#### Entendimento dos dados - Univariada\n",
    "Nesta etapa tipicamente avaliamos a distribuição de todas as variáveis."
   ]
  },
  {
   "cell_type": "code",
   "execution_count": null,
   "metadata": {
    "colab": {
     "base_uri": "https://localhost:8080/",
     "height": 992,
     "referenced_widgets": [
      "2c721d73a0f1467f9823aaf8d35ff55c",
      "33f3f1a62ad848e7ae76e9a7c1dc64fb",
      "c3d1d9da7bdb48e6806040a5333f3ba3",
      "14e06746a3254d2784d29e7bc9006888",
      "9b84036eb7354dfa869a2fdcc089c6b6",
      "e694f9c78e3a4fdfb29d598a2e396537",
      "1caf5b0d161c4dbbbfd54d35121be3ef",
      "46bc590ea7b14fa39032446cbe3afd98",
      "7c9b130501774bddb59f213078172a36",
      "a6bb2d22e80541f4a2d13708b652cf18",
      "1e537ffc0a81438291dad4d3188c285c",
      "bf35a048a07b44fc9c295002a627834d",
      "4f4b0c2f924e4304ac438ce65a2e268e",
      "7edd223f2eb54fa3b7eaf48cdc964716",
      "e528bd7533ab4bff93d84ea4bdd5c17c",
      "a606b7e5519f4dbeb4b2b1d8cb354e76",
      "e4bbd6719b8d4aa9b14d576b7451fcb6",
      "899e1f335b4742ed9da465aa190d29eb",
      "c65e6909682942798390a6fae84f3f5b",
      "d3f2b3cdec764d5298bc82e803f2e90e",
      "48cd31640bc14f6c8889849fbde4a2a7",
      "f5d136c601104e7fb9370591484bbb82",
      "157befc6353c4fffb9c5d6eb5a683517",
      "4fc1b0e2a6504768b870d80f683867a6",
      "1a4fd8558d5f404ca0fb22e799f0f90b",
      "95508b4d033947bd95460ec8ae52aa8a",
      "bf9c46c0775a43279ae3b04322534421",
      "04ce08d6969f4ad1a1afc216fd0b9a3c",
      "01ad88d77f404f038267da654e813a7c",
      "a7fc11182f154efdac8f6f46f28b829e",
      "86e8336d057646aaa47d3a1fe5d58dad",
      "86ee0e39141d4a3c9c3cd6b2c3eb5cd4",
      "b1092e86e56a481c885768abb8a87786"
     ]
    },
    "id": "hN4J4xDKiIuC",
    "outputId": "d647052c-c975-425d-cc0e-6d8beab7878b"
   },
   "outputs": [],
   "source": [
    "prof = ProfileReport(renda, explorative=True, minimal=True)\n",
    "prof\n"
   ]
  },
  {
   "cell_type": "code",
   "execution_count": null,
   "metadata": {
    "colab": {
     "base_uri": "https://localhost:8080/",
     "height": 49,
     "referenced_widgets": [
      "1582f754c9184eb5a216758296ab72a7",
      "52c85be113574cc08c7f8e5ff23bd07b",
      "46f1c1597a11424580d3da0d0eeec056",
      "fd1154efde9241e9b7e1ade730386810",
      "528271586e8a44c094cc34ea6ed288b6",
      "bde2b9b6a6b14871923163fc880e7db6",
      "8f4156ae23a14f0e96fd05d91daa972b",
      "78fee5c240da43e395785f83e08d4a4c",
      "cb34a48d07e541e1bedf9e5fe995bd9f",
      "e003206fa54642d5857c73c57105f279",
      "8d1b1401611c496c88b2268c10997481"
     ]
    },
    "id": "ikwNWTAhiIuC",
    "outputId": "07b048b1-1c11-47bc-f92e-000a31f4fdda"
   },
   "outputs": [],
   "source": [
    "prof.to_file('renda_analisys.html')"
   ]
  },
  {
   "cell_type": "markdown",
   "metadata": {
    "id": "krnhos2fiIuC"
   },
   "source": [
    "MOSTRA A ESTATISTICA DE CADA COLUNA DO DATAFRAME. NO INCIO PODE VERIFICAR O \"ALERT\", QUE MOSTRA COLUNAS QUE PODEM APRESENTAR PROBLEMAS QUANDO FORMOS FAZER A ANALISE\n"
   ]
  },
  {
   "cell_type": "markdown",
   "metadata": {
    "id": "3BtVoKLXiIuC"
   },
   "source": [
    "### Entendimento dos dados - Bivariadas\n",
    "\n",
    "\n"
   ]
  },
  {
   "cell_type": "markdown",
   "metadata": {
    "id": "tcTWhZ8DiIuC"
   },
   "source": [
    "<span style=\"color:red\">O GRAFICO MOSTRA QUE MAIS JOVENS TENDEM A SER MAUS PAGADORES, QUE TAMBEM PODE SER INDICADO POR ALGUMAS INFLUENCIAS EXTERNAS.</span>\n"
   ]
  },
  {
   "cell_type": "code",
   "execution_count": null,
   "metadata": {
    "colab": {
     "base_uri": "https://localhost:8080/"
    },
    "id": "_G_PS2kitLfb",
    "outputId": "db6f9a6a-62f7-40e5-b559-18f540dd989d"
   },
   "outputs": [],
   "source": [
    "print(renda1['mau'].value_counts())\n",
    "print(\"\\nTaxa de inadimplentes:\")\n",
    "print(renda1['mau'].mean())"
   ]
  },
  {
   "cell_type": "code",
   "execution_count": null,
   "metadata": {
    "colab": {
     "base_uri": "https://localhost:8080/",
     "height": 614
    },
    "id": "5K_XcHEciIuC",
    "outputId": "b24c3e77-6ed3-468f-a9b7-c1a674a17640"
   },
   "outputs": [],
   "source": [
    "renda[\"mau\"] = renda[\"mau\"].astype(int)\n",
    "\n",
    "renda[\"faixa_idade\"] = pd.qcut(renda[\"idade\"], 4)\n",
    "\n",
    "biv = renda.groupby(\"faixa_idade\")[\"mau\"].mean()\n",
    "\n",
    "biv.plot(kind=\"bar\")\n",
    "plt.ylabel(\"Proporção de inadimplentes\")\n",
    "plt.xlabel(\"Faixa de idade\")\n",
    "plt.title(\"Inadimplência por faixa de idade\")\n",
    "plt.show()"
   ]
  },
  {
   "cell_type": "markdown",
   "metadata": {
    "id": "0jIvnN7QiIuC"
   },
   "source": [
    "## Etapa 3 Crisp-DM: Preparação dos dados\n",
    "Nessa etapa realizamos tipicamente as seguintes operações com os dados:\n",
    "\n",
    " - **seleção**: Já temos os dados selecionados adequadamente?\n",
    " - **limpeza**: Precisaremos identificar e tratar dados faltantes\n",
    " - **construção**: construção de novas variáveis\n",
    " - **integração**: Temos apenas uma fonte de dados, não é necessário integração\n",
    " - **formatação**: Os dados já se encontram em formatos úteis?\n",
    "\n"
   ]
  },
  {
   "cell_type": "markdown",
   "metadata": {
    "id": "CI5b8plsiIuD"
   },
   "source": [
    "<span style=\"color:red\">ESCREVER AQUI</span>\n"
   ]
  },
  {
   "cell_type": "code",
   "execution_count": null,
   "metadata": {
    "colab": {
     "base_uri": "https://localhost:8080/",
     "height": 545
    },
    "id": "QBlaTWtriIuD",
    "outputId": "94a1239a-d877-4290-f0b1-c3662740cefc"
   },
   "outputs": [],
   "source": [
    "metadata = pd.DataFrame(renda.dtypes, columns = ['tipo'])\n",
    "\n",
    "metadata['n_categorias'] = 0\n",
    "\n",
    "for var in metadata.index:\n",
    "    metadata.loc[var,'n_categorias'] = len(renda.groupby([var]).size())\n",
    "\n",
    "metadata"
   ]
  },
  {
   "cell_type": "code",
   "execution_count": null,
   "metadata": {
    "colab": {
     "base_uri": "https://localhost:8080/"
    },
    "id": "eWhBPM0voHbt",
    "outputId": "3fecf5e9-9147-4594-f6bc-b87cc5272a6a"
   },
   "outputs": [],
   "source": [
    "qtd_total = renda.shape[0]\n",
    "qtd_adiplentes = renda[renda['mau'] == False].shape[0]\n",
    "qtd_inadiplentes = renda[renda['mau'] == True].shape[0]\n",
    "\n",
    "print(f'A proprorção de adiplentes é de {round(100*qtd_adiplentes / qtd_total, 2)}%')\n",
    "print(f'A proprorção de inadiplentes é de {round(100 * qtd_inadiplentes / qtd_total, 2)}%')"
   ]
  },
  {
   "cell_type": "code",
   "execution_count": null,
   "metadata": {
    "colab": {
     "base_uri": "https://localhost:8080/",
     "height": 206
    },
    "id": "CIPE0NIliIuD",
    "outputId": "5d3a1567-c064-4852-885b-a518996f2708"
   },
   "outputs": [],
   "source": [
    "renda1.select_dtypes('object').describe().transpose()"
   ]
  },
  {
   "cell_type": "code",
   "execution_count": null,
   "metadata": {
    "colab": {
     "base_uri": "https://localhost:8080/",
     "height": 206
    },
    "id": "vR61c2m7qPsY",
    "outputId": "953a833d-a445-4216-cd77-afa0d3e1eede"
   },
   "outputs": [],
   "source": [
    "renda1.select_dtypes('number').describe().transpose()"
   ]
  },
  {
   "cell_type": "code",
   "execution_count": null,
   "metadata": {
    "colab": {
     "base_uri": "https://localhost:8080/"
    },
    "id": "2Uf0DMeuiIuD",
    "outputId": "cb0fd8ae-081f-4196-c3b5-33edab369505"
   },
   "outputs": [],
   "source": [
    "renda1.info()"
   ]
  },
  {
   "cell_type": "code",
   "execution_count": null,
   "metadata": {
    "id": "ISjQRUwPq4Eo"
   },
   "outputs": [],
   "source": [
    "def convert_dummy(renda1, feature,rank=0):\n",
    "    pos = pd.get_dummies(renda1[feature], prefix=feature)\n",
    "    mode = renda1[feature].value_counts().index[rank]\n",
    "    biggest = feature + '_' + str(mode)\n",
    "    pos.drop([biggest],axis=1,inplace=True)\n",
    "    renda1.drop([feature],axis=1,inplace=True)\n",
    "    renda1=renda1.join(pos)\n",
    "    return renda1"
   ]
  },
  {
   "cell_type": "code",
   "execution_count": null,
   "metadata": {
    "id": "DOkbGGTRrNFA"
   },
   "outputs": [],
   "source": [
    "for var in metadata[metadata['tipo'] == 'object'].index:\n",
    "    renda1 = convert_dummy(renda1, var)"
   ]
  },
  {
   "cell_type": "code",
   "execution_count": null,
   "metadata": {
    "colab": {
     "base_uri": "https://localhost:8080/",
     "height": 273
    },
    "id": "KsuKDgVtwEX1",
    "outputId": "1ca73e25-4750-4bd1-8bde-89be1bb69c7b"
   },
   "outputs": [],
   "source": [
    "renda1['tempo_emprego'] = renda1['tempo_emprego'].fillna(renda1['tempo_emprego'].mean())\n",
    "renda1.head()"
   ]
  },
  {
   "cell_type": "code",
   "execution_count": null,
   "metadata": {
    "colab": {
     "base_uri": "https://localhost:8080/"
    },
    "id": "K7u5Zf1q2yW2",
    "outputId": "25f9b035-af94-4895-95cd-fd9687391025"
   },
   "outputs": [],
   "source": [
    "renda1.dtypes, renda1.info()"
   ]
  },
  {
   "cell_type": "markdown",
   "metadata": {
    "id": "tGB25cPwiIuD"
   },
   "source": [
    "## Etapa 4 Crisp-DM: Modelagem\n",
    "Nessa etapa que realizaremos a construção do modelo. Os passos típicos são:\n",
    "- Selecionar a técnica de modelagem\n",
    "- Desenho do teste\n",
    "- Avaliação do modelo\n"
   ]
  },
  {
   "cell_type": "markdown",
   "metadata": {
    "id": "yyPbClKXiIuD"
   },
   "source": [
    "<span style=\"color:red\">ESCREVER AQUI</span>\n"
   ]
  },
  {
   "cell_type": "markdown",
   "metadata": {
    "id": "6-yqR87PiIuD"
   },
   "source": [
    "### Rodando o modelo\n"
   ]
  },
  {
   "cell_type": "markdown",
   "metadata": {
    "id": "h4ObiN-giIuD"
   },
   "source": [
    "<span style=\"color:red\">ESCREVER AQUI</span>\n"
   ]
  },
  {
   "cell_type": "code",
   "execution_count": null,
   "metadata": {
    "id": "snEZolT4iIuD"
   },
   "outputs": [],
   "source": [
    "X = renda1.drop('mau', axis=1)\n",
    "y = renda['mau']"
   ]
  },
  {
   "cell_type": "code",
   "execution_count": null,
   "metadata": {
    "id": "7zaYq5kliIuD"
   },
   "outputs": [],
   "source": [
    "X_train, X_test, y_train, y_test = train_test_split(X, y, test_size=0.2, random_state=42)"
   ]
  },
  {
   "cell_type": "code",
   "execution_count": null,
   "metadata": {
    "colab": {
     "base_uri": "https://localhost:8080/",
     "height": 461
    },
    "id": "Es4TcOlxiIuD",
    "outputId": "cddff5c4-509c-4218-b2f8-dc3b3a7d61c1"
   },
   "outputs": [],
   "source": [
    "X_train"
   ]
  },
  {
   "cell_type": "markdown",
   "metadata": {
    "id": "qh8r6sYGiIuD"
   },
   "source": [
    "## Etapa 5 Crisp-DM: Avaliação dos resultados\n"
   ]
  },
  {
   "cell_type": "markdown",
   "metadata": {
    "id": "kl1_ZnUoiIuE"
   },
   "source": [
    "<span style=\"color:red\">ESCREVER AQUI</span>\n"
   ]
  },
  {
   "cell_type": "code",
   "execution_count": null,
   "metadata": {
    "id": "mciGDzjkiIuE"
   },
   "outputs": [],
   "source": []
  },
  {
   "cell_type": "code",
   "execution_count": null,
   "metadata": {
    "id": "uvBn5V2OiIuE"
   },
   "outputs": [],
   "source": []
  },
  {
   "cell_type": "markdown",
   "metadata": {
    "id": "DUw2s9dziIuE"
   },
   "source": [
    "## Etapa 6 Crisp-DM: Implantação\n",
    "Nessa etapa colocamos em uso o modelo desenvolvido, normalmente implementando o modelo desenvolvido em um motor que toma as decisões com algum nível de automação."
   ]
  },
  {
   "cell_type": "code",
   "execution_count": null,
   "metadata": {
    "id": "Gp0MeY8niIuE"
   },
   "outputs": [],
   "source": []
  },
  {
   "cell_type": "code",
   "execution_count": null,
   "metadata": {
    "id": "GOj_oGNyiIuE"
   },
   "outputs": [],
   "source": []
  },
  {
   "cell_type": "code",
   "execution_count": null,
   "metadata": {
    "id": "UO6SlX9RiIuE"
   },
   "outputs": [],
   "source": []
  },
  {
   "cell_type": "code",
   "execution_count": null,
   "metadata": {
    "id": "S4mjv7gLiIuF"
   },
   "outputs": [],
   "source": []
  },
  {
   "cell_type": "code",
   "execution_count": null,
   "metadata": {
    "id": "vi9S4clpiIuF"
   },
   "outputs": [],
   "source": []
  }
 ],
 "metadata": {
  "colab": {
   "provenance": []
  },
  "kernelspec": {
   "display_name": "Python 3",
   "language": "python",
   "name": "python3"
  },
  "language_info": {
   "codemirror_mode": {
    "name": "ipython",
    "version": 3
   },
   "file_extension": ".py",
   "mimetype": "text/x-python",
   "name": "python",
   "nbconvert_exporter": "python",
   "pygments_lexer": "ipython3",
   "version": "3.8.5"
  },
  "varInspector": {
   "cols": {
    "lenName": 16,
    "lenType": 16,
    "lenVar": 40
   },
   "kernels_config": {
    "python": {
     "delete_cmd_postfix": "",
     "delete_cmd_prefix": "del ",
     "library": "var_list.py",
     "varRefreshCmd": "print(var_dic_list())"
    },
    "r": {
     "delete_cmd_postfix": ") ",
     "delete_cmd_prefix": "rm(",
     "library": "var_list.r",
     "varRefreshCmd": "cat(var_dic_list()) "
    }
   },
   "types_to_exclude": [
    "module",
    "function",
    "builtin_function_or_method",
    "instance",
    "_Feature"
   ],
   "window_display": false
  }
 },
 "nbformat": 4,
 "nbformat_minor": 0
}
